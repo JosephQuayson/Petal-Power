{
 "cells": [
  {
   "cell_type": "code",
   "execution_count": null,
   "metadata": {},
   "outputs": [],
   "source": [
    "import codecademylib\n",
    "import pandas as pd\n"
   ]
  },
  {
   "cell_type": "code",
   "execution_count": null,
   "metadata": {},
   "outputs": [],
   "source": [
    "#Read or import csv file \n",
    "inventory=pd.read_csv('inventory.csv')\n",
    "\n",
    "\n",
    "#Inspect the first 10 rows of inventory\n",
    "print(inventory.head(10))\n",
    "\n",
    "\n",
    "#Select these 10 rows and save them to staten_island\n",
    "staten_island=inventory.iloc[0:11]\n",
    "\n",
    "\n",
    "\n",
    "\n",
    "#product_request\n",
    "\n",
    "product_request=staten_island['product_description']\n",
    "\n",
    "seed_request=inventory[(inventory.location=='Brooklyn') & (inventory.product_type==\"seeds\")]\n",
    "\n",
    "inventory['in_stock']= inventory.apply(lambda row: True if row.quantity>0 else False,axis=1 )\n",
    "\n",
    "inventory['total_value']=inventory.price * inventory.quantity\n",
    "\n",
    "combine_lambda = lambda row:'{} - {}'.format(row.product_type, row.product_description)\n",
    "\n",
    "inventory['full_description']=inventory.apply(combine_lambda, axis=1)\n",
    "\n",
    "\n",
    "print inventory"
   ]
  }
 ],
 "metadata": {
  "kernelspec": {
   "display_name": "Python 3",
   "language": "python",
   "name": "python3"
  },
  "language_info": {
   "codemirror_mode": {
    "name": "ipython",
    "version": 3
   },
   "file_extension": ".py",
   "mimetype": "text/x-python",
   "name": "python",
   "nbconvert_exporter": "python",
   "pygments_lexer": "ipython3",
   "version": "3.7.6"
  }
 },
 "nbformat": 4,
 "nbformat_minor": 4
}
